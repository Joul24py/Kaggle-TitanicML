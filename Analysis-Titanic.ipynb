{
 "cells": [
  {
   "cell_type": "markdown",
   "id": "62e389b4",
   "metadata": {},
   "source": [
    "# Titanic - Machine Learning from Disaster\n",
    "\n",
    "Pequeño resumen\n",
    "\n",
    "Cuando tenga, los resultados obtenidos\n",
    "\n",
    "## Overview\n",
    "\n",
    "### 1. Understand the data\n",
    "\n",
    "As a first step, we import the data as following:"
   ]
  },
  {
   "cell_type": "code",
   "execution_count": 3,
   "id": "1efb18fc",
   "metadata": {},
   "outputs": [
    {
     "name": "stdout",
     "output_type": "stream",
     "text": [
      "     PassengerId  Survived  Pclass  \\\n",
      "0              1         0       3   \n",
      "1              2         1       1   \n",
      "2              3         1       3   \n",
      "3              4         1       1   \n",
      "4              5         0       3   \n",
      "..           ...       ...     ...   \n",
      "886          887         0       2   \n",
      "887          888         1       1   \n",
      "888          889         0       3   \n",
      "889          890         1       1   \n",
      "890          891         0       3   \n",
      "\n",
      "                                                  Name     Sex   Age  SibSp  \\\n",
      "0                              Braund, Mr. Owen Harris    male  22.0      1   \n",
      "1    Cumings, Mrs. John Bradley (Florence Briggs Th...  female  38.0      1   \n",
      "2                               Heikkinen, Miss. Laina  female  26.0      0   \n",
      "3         Futrelle, Mrs. Jacques Heath (Lily May Peel)  female  35.0      1   \n",
      "4                             Allen, Mr. William Henry    male  35.0      0   \n",
      "..                                                 ...     ...   ...    ...   \n",
      "886                              Montvila, Rev. Juozas    male  27.0      0   \n",
      "887                       Graham, Miss. Margaret Edith  female  19.0      0   \n",
      "888           Johnston, Miss. Catherine Helen \"Carrie\"  female   NaN      1   \n",
      "889                              Behr, Mr. Karl Howell    male  26.0      0   \n",
      "890                                Dooley, Mr. Patrick    male  32.0      0   \n",
      "\n",
      "     Parch            Ticket     Fare Cabin Embarked  \n",
      "0        0         A/5 21171   7.2500   NaN        S  \n",
      "1        0          PC 17599  71.2833   C85        C  \n",
      "2        0  STON/O2. 3101282   7.9250   NaN        S  \n",
      "3        0            113803  53.1000  C123        S  \n",
      "4        0            373450   8.0500   NaN        S  \n",
      "..     ...               ...      ...   ...      ...  \n",
      "886      0            211536  13.0000   NaN        S  \n",
      "887      0            112053  30.0000   B42        S  \n",
      "888      2        W./C. 6607  23.4500   NaN        S  \n",
      "889      0            111369  30.0000  C148        C  \n",
      "890      0            370376   7.7500   NaN        Q  \n",
      "\n",
      "[891 rows x 12 columns]\n"
     ]
    }
   ],
   "source": [
    "import pandas as pd\n",
    "\n",
    "df = pd.read_csv('data/titanic/train.csv')\n",
    "print(df)"
   ]
  },
  {
   "cell_type": "markdown",
   "id": "8d61d953",
   "metadata": {},
   "source": [
    "Now it's time to understand the nature of the data.\n",
    "\n",
    "First of all it's going to be checked the dataframe information:"
   ]
  },
  {
   "cell_type": "code",
   "execution_count": 4,
   "id": "a9e464f1",
   "metadata": {},
   "outputs": [
    {
     "name": "stdout",
     "output_type": "stream",
     "text": [
      "Information:\n",
      "<class 'pandas.core.frame.DataFrame'>\n",
      "RangeIndex: 891 entries, 0 to 890\n",
      "Data columns (total 12 columns):\n",
      " #   Column       Non-Null Count  Dtype  \n",
      "---  ------       --------------  -----  \n",
      " 0   PassengerId  891 non-null    int64  \n",
      " 1   Survived     891 non-null    int64  \n",
      " 2   Pclass       891 non-null    int64  \n",
      " 3   Name         891 non-null    object \n",
      " 4   Sex          891 non-null    object \n",
      " 5   Age          714 non-null    float64\n",
      " 6   SibSp        891 non-null    int64  \n",
      " 7   Parch        891 non-null    int64  \n",
      " 8   Ticket       891 non-null    object \n",
      " 9   Fare         891 non-null    float64\n",
      " 10  Cabin        204 non-null    object \n",
      " 11  Embarked     889 non-null    object \n",
      "dtypes: float64(2), int64(5), object(5)\n",
      "memory usage: 83.7+ KB\n",
      "None\n",
      "Describe:\n",
      "       PassengerId    Survived      Pclass         Age       SibSp  \\\n",
      "count   891.000000  891.000000  891.000000  714.000000  891.000000   \n",
      "mean    446.000000    0.383838    2.308642   29.699118    0.523008   \n",
      "std     257.353842    0.486592    0.836071   14.526497    1.102743   \n",
      "min       1.000000    0.000000    1.000000    0.420000    0.000000   \n",
      "25%     223.500000    0.000000    2.000000   20.125000    0.000000   \n",
      "50%     446.000000    0.000000    3.000000   28.000000    0.000000   \n",
      "75%     668.500000    1.000000    3.000000   38.000000    1.000000   \n",
      "max     891.000000    1.000000    3.000000   80.000000    8.000000   \n",
      "\n",
      "            Parch        Fare  \n",
      "count  891.000000  891.000000  \n",
      "mean     0.381594   32.204208  \n",
      "std      0.806057   49.693429  \n",
      "min      0.000000    0.000000  \n",
      "25%      0.000000    7.910400  \n",
      "50%      0.000000   14.454200  \n",
      "75%      0.000000   31.000000  \n",
      "max      6.000000  512.329200  \n"
     ]
    }
   ],
   "source": [
    "print(\"Information:\")\n",
    "print(df.info())\n",
    "\n",
    "print(\"Describe:\")\n",
    "print(df.describe())"
   ]
  },
  {
   "cell_type": "markdown",
   "id": "33588973",
   "metadata": {},
   "source": [
    "a (texto aquí help)"
   ]
  },
  {
   "cell_type": "code",
   "execution_count": 5,
   "id": "c683c3b5",
   "metadata": {},
   "outputs": [
    {
     "name": "stdout",
     "output_type": "stream",
     "text": [
      "     PassengerId  Survived  Pclass  \\\n",
      "0              1         0       3   \n",
      "1              2         1       1   \n",
      "2              3         1       3   \n",
      "3              4         1       1   \n",
      "4              5         0       3   \n",
      "..           ...       ...     ...   \n",
      "885          886         0       3   \n",
      "886          887         0       2   \n",
      "887          888         1       1   \n",
      "889          890         1       1   \n",
      "890          891         0       3   \n",
      "\n",
      "                                                  Name     Sex   Age  SibSp  \\\n",
      "0                              Braund, Mr. Owen Harris    male  22.0      1   \n",
      "1    Cumings, Mrs. John Bradley (Florence Briggs Th...  female  38.0      1   \n",
      "2                               Heikkinen, Miss. Laina  female  26.0      0   \n",
      "3         Futrelle, Mrs. Jacques Heath (Lily May Peel)  female  35.0      1   \n",
      "4                             Allen, Mr. William Henry    male  35.0      0   \n",
      "..                                                 ...     ...   ...    ...   \n",
      "885               Rice, Mrs. William (Margaret Norton)  female  39.0      0   \n",
      "886                              Montvila, Rev. Juozas    male  27.0      0   \n",
      "887                       Graham, Miss. Margaret Edith  female  19.0      0   \n",
      "889                              Behr, Mr. Karl Howell    male  26.0      0   \n",
      "890                                Dooley, Mr. Patrick    male  32.0      0   \n",
      "\n",
      "     Parch            Ticket     Fare Cabin Embarked  \n",
      "0        0         A/5 21171   7.2500   NaN        S  \n",
      "1        0          PC 17599  71.2833   C85        C  \n",
      "2        0  STON/O2. 3101282   7.9250   NaN        S  \n",
      "3        0            113803  53.1000  C123        S  \n",
      "4        0            373450   8.0500   NaN        S  \n",
      "..     ...               ...      ...   ...      ...  \n",
      "885      5            382652  29.1250   NaN        Q  \n",
      "886      0            211536  13.0000   NaN        S  \n",
      "887      0            112053  30.0000   B42        S  \n",
      "889      0            111369  30.0000  C148        C  \n",
      "890      0            370376   7.7500   NaN        Q  \n",
      "\n",
      "[714 rows x 12 columns]\n"
     ]
    }
   ],
   "source": [
    "df = pd.read_csv('data/train-clean.csv')\n",
    "df.drop(df[df['Descartado'] == 1].index, inplace=True)\n",
    "df.drop('Descartado', axis=1, inplace=True)\n",
    "print(df)"
   ]
  },
  {
   "cell_type": "code",
   "execution_count": 6,
   "id": "8de96700",
   "metadata": {},
   "outputs": [
    {
     "name": "stdout",
     "output_type": "stream",
     "text": [
      "     PassengerId  Survived  Pclass   Age  SibSp  Parch     Fare\n",
      "0              1         0       3  22.0      1      0   7.2500\n",
      "1              2         1       1  38.0      1      0  71.2833\n",
      "2              3         1       3  26.0      0      0   7.9250\n",
      "3              4         1       1  35.0      1      0  53.1000\n",
      "4              5         0       3  35.0      0      0   8.0500\n",
      "..           ...       ...     ...   ...    ...    ...      ...\n",
      "885          886         0       3  39.0      0      5  29.1250\n",
      "886          887         0       2  27.0      0      0  13.0000\n",
      "887          888         1       1  19.0      0      0  30.0000\n",
      "889          890         1       1  26.0      0      0  30.0000\n",
      "890          891         0       3  32.0      0      0   7.7500\n",
      "\n",
      "[714 rows x 7 columns]\n",
      "        Sex Embarked\n",
      "0      male        S\n",
      "1    female        C\n",
      "2    female        S\n",
      "3    female        S\n",
      "4      male        S\n",
      "..      ...      ...\n",
      "885  female        Q\n",
      "886    male        S\n",
      "887  female        S\n",
      "889    male        C\n",
      "890    male        Q\n",
      "\n",
      "[714 rows x 2 columns]\n"
     ]
    }
   ],
   "source": [
    "'''\n",
    "Datos numéricos:\n",
    "    PassengerId\n",
    "    Survived (es el expected output)\n",
    "    Pclass\n",
    "    Age\n",
    "    SibSp\n",
    "    Parch\n",
    "    Fare\n",
    "Datos categóricos:\n",
    "    Sex\n",
    "    Embarked\n",
    "Datos excluidos:\n",
    "    Name (no trabajaré con eso por ahora, quizá luego sí)\n",
    "    Ticket\n",
    "    Cabin\n",
    "'''\n",
    "\n",
    "numerical_data = df[['PassengerId', 'Survived', 'Pclass', 'Age', 'SibSp', 'Parch', 'Fare']]\n",
    "categorical_data = df[['Sex', 'Embarked']]\n",
    "\n",
    "print(numerical_data)\n",
    "print(categorical_data)"
   ]
  },
  {
   "cell_type": "code",
   "execution_count": 7,
   "id": "2ee0fab5",
   "metadata": {},
   "outputs": [
    {
     "name": "stdout",
     "output_type": "stream",
     "text": [
      "PassengerId    0.029340\n",
      "Survived       1.000000\n",
      "Pclass        -0.359653\n",
      "Age           -0.077221\n",
      "SibSp         -0.017358\n",
      "Parch          0.093317\n",
      "Fare           0.268189\n",
      "dtype: float64\n"
     ]
    },
    {
     "data": {
      "image/png": "[encoded data removed]",
      "text/plain": [
       "<Figure size 1000x600 with 1 Axes>"
      ]
     },
     "metadata": {},
     "output_type": "display_data"
    }
   ],
   "source": [
    "correlation_with_survived = numerical_data.corrwith(numerical_data['Survived'])\n",
    "print(correlation_with_survived)\n",
    "\n",
    "import matplotlib.pyplot as plt\n",
    "\n",
    "correlation_with_survived.plot(kind='bar', figsize=(10, 6))\n",
    "plt.title('Correlación con Survived')\n",
    "plt.xlabel('Columnas')\n",
    "plt.ylabel('Correlación')\n",
    "for i, corr in enumerate(correlation_with_survived):\n",
    "    plt.text(i, corr, f'{corr:.2f}', ha='center', va='bottom')\n",
    "plt.show()"
   ]
  },
  {
   "cell_type": "markdown",
   "id": "c6a7cb83",
   "metadata": {},
   "source": [
    "- Male   y    survived = 109\n",
    "- Male   y no survived = 468\n",
    "- Female y    survived = 233\n",
    "- Female y no survived =  81\n",
    "\n",
    "El 18.89% de los hombres (577) sobrevivieron (109). El 81.109% de los hombres (577) no sobrevivieron (468).\n",
    "\n",
    "El 74.293% de las mujeres (314) sobrevivieron (233). El 25.79% de las mujeres (314) no sobrevivieron (81).\n",
    "\n",
    "De los sobrevivientes (342), el 31.87% fueron hombres (109). El 68.13% fueron mujeres (233).\n",
    "\n",
    "De los que no sobrevivieron (549) el 85.24% fueron hombres (468). El 14.75% fueron mujeres (81).\n",
    "\n",
    "---\n",
    "\n",
    "-    Survived y C =  93\n",
    "- No survived y C =  75\n",
    "-    Survived y Q =  30\n",
    "- No survived y Q =  47\n",
    "-    Survived y S = 217\n",
    "- No survived y S = 427\n",
    "\n",
    "De los C (168), el 55.35% sobrevivieron (93). El 44.64% no sobrevivieron (75).\n",
    "\n",
    "De los Q (168), el 38.96% sobrevivieron (30). El 61.03% no sobrevivieron (47).\n",
    "\n",
    "De los S (168), el 33.69% sobrevivieron (217). El 66.30% no sobrevivieron (427).\n",
    "\n",
    "De los sobrevivientes (340), el 27.35% son de los C (93). El 8.82% son de los Q (30). El 63.82% son de los S (217).\n",
    "\n",
    "De los no sobrevivientes (549), el 13.66% son de los C (75). El 8.56% son de los Q (47). El 77.77% son de los S (427)."
   ]
  },
  {
   "cell_type": "markdown",
   "id": "c0be1796",
   "metadata": {},
   "source": [
    "Se me ocurre hacer más análisis como la distribución de datos de algún campo que chance y hago luego"
   ]
  },
  {
   "cell_type": "code",
   "execution_count": 23,
   "id": "16b11448",
   "metadata": {},
   "outputs": [
    {
     "name": "stdout",
     "output_type": "stream",
     "text": [
      "Precisión del modelo: 0.73\n",
      "Informe de clasificación:\n",
      "              precision    recall  f1-score   support\n",
      "\n",
      "           0       0.78      0.79      0.78        87\n",
      "           1       0.67      0.64      0.65        56\n",
      "\n",
      "    accuracy                           0.73       143\n",
      "   macro avg       0.72      0.72      0.72       143\n",
      "weighted avg       0.73      0.73      0.73       143\n",
      "\n"
     ]
    }
   ],
   "source": [
    "backup_df = df.copy()\n",
    "df['Sex'] = df['Sex'].replace({'male': 1, 'female': 0})\n",
    "df['Embarked'] = df['Sex'].replace({'C': 0, 'Q': 1, 'S': 2})\n",
    "\n",
    "from sklearn import svm\n",
    "from sklearn.model_selection import train_test_split\n",
    "\n",
    "X = df.drop(['Survived', 'Name', 'Ticket', 'Cabin'], axis=1)  # Excluye la columna objetivo\n",
    "y = df['Survived']\n",
    "\n",
    "X_train, X_test, y_train, y_test = train_test_split(X, y, test_size=0.2, random_state=42)\n",
    "\n",
    "# Crea un clasificador SVM\n",
    "clf = svm.SVC(kernel='linear')  # Puedes ajustar el kernel según tus necesidades\n",
    "\n",
    "# Entrena el modelo en el conjunto de entrenamiento\n",
    "clf.fit(X_train, y_train)\n",
    "\n",
    "y_pred = clf.predict(X_test)\n",
    "\n",
    "from sklearn.metrics import accuracy_score, classification_report\n",
    "\n",
    "# Calcula la precisión del modelo\n",
    "accuracy = accuracy_score(y_test, y_pred)\n",
    "print(f'Precisión del modelo: {accuracy:.2f}')\n",
    "\n",
    "# Puedes imprimir un informe de clasificación para obtener métricas adicionales\n",
    "report = classification_report(y_test, y_pred)\n",
    "print('Informe de clasificación:')\n",
    "print(report)"
   ]
  }
 ],
 "metadata": {
  "kernelspec": {
   "display_name": "Python 3 (ipykernel)",
   "language": "python",
   "name": "python3"
  },
  "language_info": {
   "codemirror_mode": {
    "name": "ipython",
    "version": 3
   },
   "file_extension": ".py",
   "mimetype": "text/x-python",
   "name": "python",
   "nbconvert_exporter": "python",
   "pygments_lexer": "ipython3",
   "version": "3.10.12"
  }
 },
 "nbformat": 4,
 "nbformat_minor": 5
}
